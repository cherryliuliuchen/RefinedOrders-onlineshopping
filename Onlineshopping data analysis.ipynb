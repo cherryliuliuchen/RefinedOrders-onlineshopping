{
 "cells": [
  {
   "cell_type": "markdown",
   "metadata": {},
   "source": [
    "## Checking for Correlation\n",
    "### Checking Total\n",
    "\n",
    "This query checks for discrepancies between the `OrderTotal` in the `OrderHeaders` table and the calculated total from the `OrderDetails` table. The query identifies orders where the recorded `OrderTotal` does not match the sum of the product of `Count` and `Price` from the associated order details.\n"
   ]
  },
  {
   "cell_type": "code",
   "execution_count": null,
   "metadata": {},
   "outputs": [
    {
     "ename": "",
     "evalue": "",
     "output_type": "error",
     "traceback": [
      "\u001b[1;31mRunning cells with 'Python 3.7.1' requires the ipykernel package.\n",
      "\u001b[1;31mRun the following command to install 'ipykernel' into the Python environment. \n",
      "\u001b[1;31mCommand: 'c:/drozer/Python3/python.exe -m pip install ipykernel -U --user --force-reinstall'"
     ]
    }
   ],
   "source": [
    "\n",
    "SELECT oh.Id AS OrderHeaderId, oh.OrderTotal, ROUND(SUM(od.Count * od.Price), 2) AS CalculatedTotal\n",
    "FROM [Onlinedata].[dbo].[OrderHeaders] oh\n",
    "JOIN [Onlinedata].[dbo].[OrderDetails] od ON oh.Id = od.OrderHeaderId\n",
    "GROUP BY oh.Id, oh.OrderTotal\n",
    "HAVING ROUND(oh.OrderTotal, 2) <> ROUND(SUM(od.Count * od.Price), 2);\n"
   ]
  },
  {
   "cell_type": "markdown",
   "metadata": {},
   "source": [
    "| OrderHeaderId | OrderTotal | CalculatedTotal |\n",
    "|---------------|------------|-----------------|\n",
    "|               |            |                 |\n"
   ]
  },
  {
   "cell_type": "markdown",
   "metadata": {},
   "source": [
    "### Make sure that if PaymentStatus is \"Paid\", OrderStatus must be \"Completed\"."
   ]
  },
  {
   "cell_type": "code",
   "execution_count": null,
   "metadata": {},
   "outputs": [
    {
     "ename": "",
     "evalue": "",
     "output_type": "error",
     "traceback": [
      "\u001b[1;31mRunning cells with 'Python 3.7.1' requires the ipykernel package.\n",
      "\u001b[1;31mRun the following command to install 'ipykernel' into the Python environment. \n",
      "\u001b[1;31mCommand: 'c:/drozer/Python3/python.exe -m pip install ipykernel -U --user --force-reinstall'"
     ]
    }
   ],
   "source": [
    "SELECT *\n",
    "FROM [Onlinedata].[dbo].[OrderHeaders]\n",
    "WHERE PaymentStatus = 'Paid' AND OrderStatus !='Completed'"
   ]
  },
  {
   "cell_type": "markdown",
   "metadata": {},
   "source": [
    "| Id | ApplicationUserId | OrderDate | ShippingDate | OrderTotal | OrderStatus | PaymentStatus | TrackingNumber | Carrier | PaymentDate | PaymentDueDate | SessionId | PaymentIntentId | PhoneNumber | StreetAddress | City | State | PostalCode | Name |\n",
    "|----|-------------------|-----------|--------------|------------|-------------|---------------|----------------|---------|-------------|----------------|-----------|-----------------|--------------|----------------|------|-------|------------|------|\n",
    "|    |                   |           |              |            |             |               |                |         |             |                |           |                 |              |                |      |       |            |      |\n"
   ]
  },
  {
   "cell_type": "code",
   "execution_count": null,
   "metadata": {},
   "outputs": [
    {
     "ename": "",
     "evalue": "",
     "output_type": "error",
     "traceback": [
      "\u001b[1;31mRunning cells with 'Python 3.7.1' requires the ipykernel package.\n",
      "\u001b[1;31mRun the following command to install 'ipykernel' into the Python environment. \n",
      "\u001b[1;31mCommand: 'c:/drozer/Python3/python.exe -m pip install ipykernel -U --user --force-reinstall'"
     ]
    }
   ],
   "source": [
    "SELECT *\n",
    "FROM [Onlinedata].[dbo].[OrderHeaders]\n",
    "WHERE ShippingDate < OrderDate;"
   ]
  },
  {
   "cell_type": "markdown",
   "metadata": {},
   "source": []
  },
  {
   "cell_type": "markdown",
   "metadata": {},
   "source": [
    "## Clear data\n",
    "### Create a new table that excludes orders which do not meet the specified conditions"
   ]
  },
  {
   "cell_type": "markdown",
   "metadata": {},
   "source": []
  },
  {
   "cell_type": "code",
   "execution_count": null,
   "metadata": {},
   "outputs": [],
   "source": [
    "CREATE TABLE [Onlinedata].[dbo].[OrderHeaders_Cleanup] (\n",
    "    Id INT PRIMARY KEY,  \n",
    "    ApplicationUserId NVARCHAR(450),\n",
    "    OrderDate DATETIME,\n",
    "    ShippingDate DATETIME,\n",
    "    OrderTotal DECIMAL(18, 2),  \n",
    "    OrderStatus NVARCHAR(50),\n",
    "    PaymentStatus NVARCHAR(50),\n",
    "    TrackingNumber NVARCHAR(50),\n",
    "    Carrier NVARCHAR(50),\n",
    "    PaymentDate DATETIME,\n",
    "    PaymentDueDate DATETIME,\n",
    "    SessionId NVARCHAR(100), \n",
    "    PaymentIntentId NVARCHAR(100),\n",
    "    PhoneNumber NVARCHAR(20),\n",
    "    StreetAddress NVARCHAR(100),\n",
    "    City NVARCHAR(50),\n",
    "    State NVARCHAR(50),\n",
    "    PostalCode NVARCHAR(20),\n",
    "    Name NVARCHAR(100)\n",
    ");\n",
    "\n",
    "\n",
    "INSERT INTO [Onlinedata].[dbo].[OrderHeaders_Cleanup]\n",
    "(Id, ApplicationUserId, OrderDate, ShippingDate, OrderTotal, OrderStatus, PaymentStatus, TrackingNumber, Carrier, PaymentDate, PaymentDueDate, SessionId, PaymentIntentId, PhoneNumber, StreetAddress, City, State, PostalCode, Name)\n",
    "SELECT oh.Id, oh.ApplicationUserId, oh.OrderDate, oh.ShippingDate, oh.OrderTotal, oh.OrderStatus, oh.PaymentStatus, oh.TrackingNumber, oh.Carrier, oh.PaymentDate, oh.PaymentDueDate, oh.SessionId, oh.PaymentIntentId, oh.PhoneNumber, oh.StreetAddress, oh.City, oh.State, oh.PostalCode, oh.Name\n",
    "FROM [Onlinedata].[dbo].[OrderHeaders] oh\n",
    "WHERE NOT (\n",
    "    -- Records with payment status 'Paid' and order status 'Completed'\n",
    "    (oh.OrderStatus = 'Completed' AND oh.PaymentStatus != 'Paid')\n",
    "    OR\n",
    "    -- Condition 2: OrderTotal is inconsistent with the total amount calculated in OrderDetails\n",
    "    oh.OrderTotal != (\n",
    "        SELECT ROUND(SUM(od.Count * od.Price), 2)\n",
    "        FROM [Onlinedata].[dbo].[OrderDetails] od\n",
    "        WHERE od.OrderHeaderId = oh.Id\n",
    "        GROUP BY od.OrderHeaderId\n",
    "    )\n",
    "    OR\n",
    "    -- Condition 3: ShippingDate is earlier than OrderDate\n",
    "    oh.ShippingDate < oh.OrderDate\n",
    ");\n",
    "\n"
   ]
  },
  {
   "cell_type": "markdown",
   "metadata": {},
   "source": [
    "## Filter data to support promotions\n",
    "### Identify high-spending users. Find users with the highest total spending. These users may receive higher coupons or special promotional emails."
   ]
  },
  {
   "cell_type": "code",
   "execution_count": null,
   "metadata": {},
   "outputs": [],
   "source": [
    "SELECT oh.ApplicationUserId, SUM(oh.OrderTotal) AS TotalSpent\n",
    "FROM [Onlinedata].[dbo].[OrderHeaders_Cleanup] oh\n",
    "GROUP BY oh.ApplicationUserId\n",
    "ORDER BY TotalSpent DESC;"
   ]
  },
  {
   "cell_type": "markdown",
   "metadata": {},
   "source": [
    "### Push personalized offers based on product categories. If you have product category information, you can filter out users who frequently purchase a certain type of product and push discount information for that type of product."
   ]
  },
  {
   "cell_type": "code",
   "execution_count": null,
   "metadata": {},
   "outputs": [],
   "source": [
    "WIP"
   ]
  },
  {
   "cell_type": "markdown",
   "metadata": {},
   "source": [
    "### Filter unpaid orders. You can find orders whose order status is \"Pending\" but have not yet been paid, and provide specific payment reminders or reminder offers."
   ]
  },
  {
   "cell_type": "code",
   "execution_count": null,
   "metadata": {},
   "outputs": [],
   "source": [
    "WIP"
   ]
  },
  {
   "cell_type": "markdown",
   "metadata": {},
   "source": [
    "### Identify long-term non-purchasing users. Identify users who have not placed an order for a period of time. You can push special promotions or coupons to attract them to return."
   ]
  },
  {
   "cell_type": "code",
   "execution_count": null,
   "metadata": {},
   "outputs": [],
   "source": [
    "WIP"
   ]
  }
 ],
 "metadata": {
  "kernelspec": {
   "display_name": "Python 3",
   "language": "python",
   "name": "python3"
  },
  "language_info": {
   "name": "python",
   "version": "3.7.1"
  }
 },
 "nbformat": 4,
 "nbformat_minor": 2
}
